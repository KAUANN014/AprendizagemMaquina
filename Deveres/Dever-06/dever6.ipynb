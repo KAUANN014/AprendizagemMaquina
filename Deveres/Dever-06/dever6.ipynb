{
  "nbformat": 4,
  "nbformat_minor": 0,
  "metadata": {
    "colab": {
      "provenance": [],
      "authorship_tag": "ABX9TyMSFX1RAUkJQBnB1+iVThk1",
      "include_colab_link": true
    },
    "kernelspec": {
      "name": "python3",
      "display_name": "Python 3"
    },
    "language_info": {
      "name": "python"
    }
  },
  "cells": [
    {
      "cell_type": "markdown",
      "metadata": {
        "id": "view-in-github",
        "colab_type": "text"
      },
      "source": [
        "<a href=\"https://colab.research.google.com/github/KAUANN014/AprendizagemMaquina/blob/master/Deveres/Dever-06/dever6.ipynb\" target=\"_parent\"><img src=\"https://colab.research.google.com/assets/colab-badge.svg\" alt=\"Open In Colab\"/></a>"
      ]
    },
    {
      "cell_type": "code",
      "execution_count": 11,
      "metadata": {
        "id": "pJmsn5Lfvo9E",
        "colab": {
          "base_uri": "https://localhost:8080/"
        },
        "outputId": "5c4851d9-37f2-4b0b-829f-be74c3b3b282"
      },
      "outputs": [
        {
          "output_type": "stream",
          "name": "stdout",
          "text": [
            "Digite 4 valores separados por espaço (ex: 5.1 3.5 1.4 0.2): 6 7 8 9\n",
            "Nome da flor: virginica\n"
          ]
        }
      ],
      "source": [
        "from sklearn.datasets import load_iris\n",
        "from sklearn.neighbors import KNeighborsClassifier\n",
        "\n",
        "iris = load_iris()\n",
        "X = iris.data\n",
        "y = iris.target\n",
        "\n",
        "modelo = KNeighborsClassifier(n_neighbors=3)\n",
        "modelo.fit(X, y)\n",
        "\n",
        "try:\n",
        "    entrada = input(\"Digite 4 valores separados por espaço : \").split()\n",
        "\n",
        "    if len(entrada) != 4:\n",
        "        raise ValueError(\"Você deve digitar exatamente 4 valores.\")\n",
        "\n",
        "    entrada = [float(x) for x in entrada]\n",
        "\n",
        "    predicao = modelo.predict([entrada])\n",
        "    print(\"Nome da flor:\", iris.target_names[predicao[0]])\n",
        "\n",
        "except ValueError as ve:\n",
        "    print(\"Erro:\", ve)\n",
        "except Exception as e:\n",
        "    print(\"Ocorreu um erro inesperado:\", e)"
      ]
    }
  ]
}