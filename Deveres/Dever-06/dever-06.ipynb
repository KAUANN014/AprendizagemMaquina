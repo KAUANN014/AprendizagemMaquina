{
 "cells": [
  {
   "cell_type": "code",
   "execution_count": null,
   "id": "72e92b42",
   "metadata": {
    "vscode": {
     "languageId": "plaintext"
    }
   },
   "outputs": [],
   "source": [
    "teste"
   ]
  }
 ],
 "metadata": {
  "language_info": {
   "name": "python"
  }
 },
 "nbformat": 4,
 "nbformat_minor": 5
}
